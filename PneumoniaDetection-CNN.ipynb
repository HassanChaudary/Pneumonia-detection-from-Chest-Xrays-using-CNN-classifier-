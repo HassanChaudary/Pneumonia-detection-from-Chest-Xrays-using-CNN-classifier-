{
 "cells": [
  {
   "cell_type": "markdown",
   "metadata": {},
   "source": [
    "# Defining libraries"
   ]
  },
  {
   "cell_type": "code",
   "execution_count": 24,
   "metadata": {},
   "outputs": [],
   "source": [
    "import tensorflow as tf\n",
    "from keras.models import Sequential\n",
    "from keras.layers import Conv2D, MaxPooling2D,MaxPool2D\n",
    "from keras.layers import Activation, Dropout, Flatten, Dense\n"
   ]
  },
  {
   "cell_type": "markdown",
   "metadata": {},
   "source": [
    "# Cleaning data of corrupted images"
   ]
  },
  {
   "cell_type": "code",
   "execution_count": 39,
   "metadata": {},
   "outputs": [
    {
     "name": "stdout",
     "output_type": "stream",
     "text": [
      "Deleted 56 images\n"
     ]
    }
   ],
   "source": [
    "import os\n",
    "\n",
    "num_skipped = 0\n",
    "for folder_name in (\"COVID-19\", \"Normal\"):\n",
    "    folder_path = os.path.join(\"D://DeepLearningPractice/COVID-Xray/TrainImages\", folder_name)\n",
    "    for fname in os.listdir(folder_path):\n",
    "        fpath = os.path.join(folder_path, fname)\n",
    "        try:\n",
    "            fobj = open(fpath, \"rb\")\n",
    "            is_jfif = tf.compat.as_bytes(\"JFIF\") in fobj.peek(10)\n",
    "        finally:\n",
    "            fobj.close()\n",
    "\n",
    "        if not is_jfif:\n",
    "            num_skipped += 1\n",
    "            # Delete corrupted image\n",
    "            os.remove(fpath)\n",
    "\n",
    "print(\"Deleted %d images\" % num_skipped)"
   ]
  },
  {
   "cell_type": "markdown",
   "metadata": {},
   "source": [
    "# Data preprocessing"
   ]
  },
  {
   "cell_type": "code",
   "execution_count": 40,
   "metadata": {},
   "outputs": [
    {
     "name": "stdout",
     "output_type": "stream",
     "text": [
      "Found 472 images belonging to 2 classes.\n",
      "Found 120 images belonging to 2 classes.\n"
     ]
    }
   ],
   "source": [
    "#Fitting the CNN to the images\n",
    "from keras.preprocessing.image import ImageDataGenerator\n",
    "train_datagen = ImageDataGenerator(\n",
    "rescale=1./255,\n",
    "shear_range=0.2,\n",
    "zoom_range=0.2,\n",
    "horizontal_flip=True)\n",
    "\n",
    "test_datagen = ImageDataGenerator(rescale=1./255)\n",
    "\n",
    "\n",
    "training_set = train_datagen.flow_from_directory(\n",
    "'D://DeepLearningPractice/COVID-Xray/TrainImages',\n",
    "target_size=(64, 64),\n",
    "batch_size=32,\n",
    "class_mode='binary')\n",
    "\n",
    "test_set = test_datagen.flow_from_directory(\n",
    "    'D://DeepLearningPractice/COVID-Xray/TestImages',\n",
    "    target_size=(64,64),\n",
    "    batch_size=32,\n",
    "    class_mode='binary')\n",
    "        "
   ]
  },
  {
   "cell_type": "code",
   "execution_count": 57,
   "metadata": {},
   "outputs": [
    {
     "name": "stdout",
     "output_type": "stream",
     "text": [
      "{'COVID-19': 0, 'Normal': 1}\n"
     ]
    }
   ],
   "source": [
    "classes = training_set.class_indices\n",
    "print(classes)"
   ]
  },
  {
   "cell_type": "markdown",
   "metadata": {},
   "source": [
    "# CNN model"
   ]
  },
  {
   "cell_type": "code",
   "execution_count": 41,
   "metadata": {},
   "outputs": [
    {
     "name": "stdout",
     "output_type": "stream",
     "text": [
      "Model: \"sequential_16\"\n",
      "_________________________________________________________________\n",
      "Layer (type)                 Output Shape              Param #   \n",
      "=================================================================\n",
      "conv2d_25 (Conv2D)           (None, 62, 62, 16)        448       \n",
      "_________________________________________________________________\n",
      "max_pooling2d_15 (MaxPooling (None, 31, 31, 16)        0         \n",
      "_________________________________________________________________\n",
      "conv2d_26 (Conv2D)           (None, 29, 29, 16)        2320      \n",
      "_________________________________________________________________\n",
      "flatten_12 (Flatten)         (None, 13456)             0         \n",
      "_________________________________________________________________\n",
      "dense_21 (Dense)             (None, 128)               1722496   \n",
      "_________________________________________________________________\n",
      "dense_22 (Dense)             (None, 1)                 129       \n",
      "=================================================================\n",
      "Total params: 1,725,393\n",
      "Trainable params: 1,725,393\n",
      "Non-trainable params: 0\n",
      "_________________________________________________________________\n"
     ]
    }
   ],
   "source": [
    "model = tf.keras.Sequential()\n",
    "\n",
    "# Must define the input shape in the first layer of the neural network\n",
    "model.add(tf.keras.layers.Conv2D(filters=16,kernel_size=3, activation='relu', input_shape=(64,64,3))) \n",
    "model.add(tf.keras.layers.MaxPooling2D(pool_size=2))\n",
    "model.add(tf.keras.layers.Conv2D(filters=16,kernel_size=3, activation='relu'))\n",
    "model.add(Flatten())\n",
    "model.add(Dense(units=128,activation='relu'))\n",
    "model.add(Dense(units=1,activation='sigmoid'))\n",
    "\n",
    "model.summary()"
   ]
  },
  {
   "cell_type": "markdown",
   "metadata": {},
   "source": [
    "# Creating Model"
   ]
  },
  {
   "cell_type": "code",
   "execution_count": 42,
   "metadata": {},
   "outputs": [
    {
     "name": "stdout",
     "output_type": "stream",
     "text": [
      "Epoch 1/25\n",
      "15/15 [==============================] - 25s 2s/step - loss: 0.5885 - accuracy: 0.7076 - val_loss: 0.3147 - val_accuracy: 0.9000\n",
      "Epoch 2/25\n",
      "15/15 [==============================] - 17s 1s/step - loss: 0.2627 - accuracy: 0.8983 - val_loss: 0.2255 - val_accuracy: 0.9083\n",
      "Epoch 3/25\n",
      "15/15 [==============================] - 17s 1s/step - loss: 0.1630 - accuracy: 0.9343 - val_loss: 0.1890 - val_accuracy: 0.9167\n",
      "Epoch 4/25\n",
      "15/15 [==============================] - 18s 1s/step - loss: 0.1718 - accuracy: 0.9364 - val_loss: 0.1911 - val_accuracy: 0.8917\n",
      "Epoch 5/25\n",
      "15/15 [==============================] - 17s 1s/step - loss: 0.1334 - accuracy: 0.9470 - val_loss: 0.1511 - val_accuracy: 0.9167\n",
      "Epoch 6/25\n",
      "15/15 [==============================] - 24s 2s/step - loss: 0.1627 - accuracy: 0.9301 - val_loss: 0.2911 - val_accuracy: 0.8750\n",
      "Epoch 7/25\n",
      "15/15 [==============================] - 19s 1s/step - loss: 0.1151 - accuracy: 0.9534 - val_loss: 0.1758 - val_accuracy: 0.9250\n",
      "Epoch 8/25\n",
      "15/15 [==============================] - 23s 2s/step - loss: 0.1070 - accuracy: 0.9576 - val_loss: 0.1926 - val_accuracy: 0.9083\n",
      "Epoch 9/25\n",
      "15/15 [==============================] - 18s 1s/step - loss: 0.1428 - accuracy: 0.9470 - val_loss: 0.2120 - val_accuracy: 0.9000\n",
      "Epoch 10/25\n",
      "15/15 [==============================] - 22s 1s/step - loss: 0.0911 - accuracy: 0.9661 - val_loss: 0.1545 - val_accuracy: 0.9417\n",
      "Epoch 11/25\n",
      "15/15 [==============================] - 19s 1s/step - loss: 0.0840 - accuracy: 0.9682 - val_loss: 0.1234 - val_accuracy: 0.9500\n",
      "Epoch 12/25\n",
      "15/15 [==============================] - 23s 2s/step - loss: 0.1173 - accuracy: 0.9492 - val_loss: 0.1811 - val_accuracy: 0.9333\n",
      "Epoch 13/25\n",
      "15/15 [==============================] - 18s 1s/step - loss: 0.1025 - accuracy: 0.9640 - val_loss: 0.2043 - val_accuracy: 0.8917\n",
      "Epoch 14/25\n",
      "15/15 [==============================] - 17s 1s/step - loss: 0.1149 - accuracy: 0.9640 - val_loss: 0.1879 - val_accuracy: 0.9083\n",
      "Epoch 15/25\n",
      "15/15 [==============================] - 17s 1s/step - loss: 0.1284 - accuracy: 0.9513 - val_loss: 0.2789 - val_accuracy: 0.9083\n",
      "Epoch 16/25\n",
      "15/15 [==============================] - 18s 1s/step - loss: 0.0865 - accuracy: 0.9725 - val_loss: 0.1788 - val_accuracy: 0.9333\n",
      "Epoch 17/25\n",
      "15/15 [==============================] - 17s 1s/step - loss: 0.0939 - accuracy: 0.9576 - val_loss: 0.1228 - val_accuracy: 0.9583\n",
      "Epoch 18/25\n",
      "15/15 [==============================] - 17s 1s/step - loss: 0.0892 - accuracy: 0.9703 - val_loss: 0.1787 - val_accuracy: 0.9250\n",
      "Epoch 19/25\n",
      "15/15 [==============================] - 17s 1s/step - loss: 0.0764 - accuracy: 0.9682 - val_loss: 0.1254 - val_accuracy: 0.9500\n",
      "Epoch 20/25\n",
      "15/15 [==============================] - 17s 1s/step - loss: 0.0818 - accuracy: 0.9682 - val_loss: 0.2362 - val_accuracy: 0.9167\n",
      "Epoch 21/25\n",
      "15/15 [==============================] - 18s 1s/step - loss: 0.0774 - accuracy: 0.9682 - val_loss: 0.1163 - val_accuracy: 0.9500\n",
      "Epoch 22/25\n",
      "15/15 [==============================] - 20s 1s/step - loss: 0.0738 - accuracy: 0.9703 - val_loss: 0.2683 - val_accuracy: 0.9083\n",
      "Epoch 23/25\n",
      "15/15 [==============================] - 18s 1s/step - loss: 0.1106 - accuracy: 0.9555 - val_loss: 0.1123 - val_accuracy: 0.9417\n",
      "Epoch 24/25\n",
      "15/15 [==============================] - 17s 1s/step - loss: 0.0694 - accuracy: 0.9746 - val_loss: 0.1954 - val_accuracy: 0.9250\n",
      "Epoch 25/25\n",
      "15/15 [==============================] - 17s 1s/step - loss: 0.0589 - accuracy: 0.9746 - val_loss: 0.1091 - val_accuracy: 0.9500\n"
     ]
    },
    {
     "data": {
      "text/plain": [
       "<tensorflow.python.keras.callbacks.History at 0x1d3ec8cf760>"
      ]
     },
     "execution_count": 42,
     "metadata": {},
     "output_type": "execute_result"
    }
   ],
   "source": [
    "model.compile(optimizer = 'adam',loss='binary_crossentropy',metrics=['accuracy'])\n",
    "model.fit(\n",
    "training_set,\n",
    "epochs=25,\n",
    "validation_data=test_set)"
   ]
  },
  {
   "cell_type": "markdown",
   "metadata": {},
   "source": [
    "# Model evaluation"
   ]
  },
  {
   "cell_type": "code",
   "execution_count": 45,
   "metadata": {},
   "outputs": [
    {
     "name": "stdout",
     "output_type": "stream",
     "text": [
      "\n",
      " Test accuracy: 0.949999988079071\n"
     ]
    }
   ],
   "source": [
    "score = model.evaluate(test_set, verbose=0)\n",
    "\n",
    "\n",
    "# Print test accuracy\n",
    "print('\\n', 'Test accuracy:', score[1])"
   ]
  },
  {
   "cell_type": "code",
   "execution_count": null,
   "metadata": {},
   "outputs": [],
   "source": []
  }
 ],
 "metadata": {
  "kernelspec": {
   "display_name": "Python 3",
   "language": "python",
   "name": "python3"
  },
  "language_info": {
   "codemirror_mode": {
    "name": "ipython",
    "version": 3
   },
   "file_extension": ".py",
   "mimetype": "text/x-python",
   "name": "python",
   "nbconvert_exporter": "python",
   "pygments_lexer": "ipython3",
   "version": "3.8.3"
  }
 },
 "nbformat": 4,
 "nbformat_minor": 4
}
